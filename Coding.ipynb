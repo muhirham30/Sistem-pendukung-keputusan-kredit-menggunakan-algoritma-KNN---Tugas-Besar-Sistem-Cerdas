{
  "nbformat": 4,
  "nbformat_minor": 0,
  "metadata": {
    "colab": {
      "name": "Coding.ipynb",
      "provenance": []
    },
    "kernelspec": {
      "name": "python3",
      "display_name": "Python 3"
    },
    "language_info": {
      "name": "python"
    }
  },
  "cells": [
    {
      "cell_type": "code",
      "execution_count": 2,
      "metadata": {
        "id": "iZ3Uo-zghmlR"
      },
      "outputs": [],
      "source": [
        "import numpy as np\n",
        "import pandas as pd"
      ]
    },
    {
      "cell_type": "code",
      "source": [
        "def datapemohon(x,k):\n",
        "    while x<len(k):\n",
        "        print(\"Masukkan Kriteria \"+str(x+1)+\" :\",end=\" \") #Memasukkan kriteria 1 sampai n\n",
        "        try: #Cek apakah user sudah menginputkan angka atau belum\n",
        "            z=input()\n",
        "            k[x]=int(z)\n",
        "            if (k[x]>=0)and(k[x])<=5: #check apakah sudah sesuai nilai atau belum\n",
        "                x+=1\n",
        "            else:\n",
        "                print(\"Mohon masukkan angka 1 - 5\") #error yang ditampikan saat user tidak memasukkan angka 1-5\n",
        "                pass\n",
        "            pass\n",
        "        except ValueError:\n",
        "            print(\"Mohon masukkan bilangan bulat.\") #error yang ditampilkan saat user tidak menginputkan bilangan bulat\n",
        "        pass"
      ],
      "metadata": {
        "id": "INVNqR2GzNmg"
      },
      "execution_count": 4,
      "outputs": []
    },
    {
      "cell_type": "code",
      "source": [
        "def masukkan_nilai_k(y):\n",
        "    while y<=0:\n",
        "        try:\n",
        "            print(\"Masukkan nilai k :\",end=\" \")\n",
        "            nilai_k=input()\n",
        "            nilai_k=int(nilai_k)\n",
        "            if nilai_k<=0:\n",
        "                print(\"Mohon masukkan angka minimal angka 1\")\n",
        "            else:\n",
        "                y+=1\n",
        "                pass\n",
        "            pass\n",
        "        except ValueError:\n",
        "            print(\"Mohon masukkan bilangan bulat.\")\n",
        "            pass\n",
        "    return nilai_k"
      ],
      "metadata": {
        "id": "OsX0rnxszP4Q"
      },
      "execution_count": 6,
      "outputs": []
    },
    {
      "cell_type": "code",
      "source": [
        "def hitung(hasil,i,d,k):\n",
        "    while i<len(d): #Ulangi sebanyak data train yang ada.\n",
        "        i2=0\n",
        "        while i2<5: #while untuk menghitung masing masing selisih data train dan data test dikuadrat pada kriteria.\n",
        "            hasil_sq=abs(k[i2]-d[i][i2+1])**2 #rumus menghitung selisih data train dan data test dikuadrat\n",
        "            hasil[i][0]+=hasil_sq #setiap hasil hitung yang ada ditambahkan\n",
        "            i2=i2+1\n",
        "            pass\n",
        "        hasil[i][0]=np.sqrt(hasil[i][0])#total hasil hitung di akar kuadratkan\n",
        "        hasil[i][1]=i+1 #menyimpan nomor data train\n",
        "        hasil[i][2]=d[i][6] #menyimpan keputusan hasil hitung\n",
        "        i=i+1\n",
        "        pass\n",
        "    hasil = list(hasil)"
      ],
      "metadata": {
        "id": "aRULn18CzRio"
      },
      "execution_count": 8,
      "outputs": []
    },
    {
      "cell_type": "code",
      "source": [
        "def urutkan(hasil, nilai_k, i3):\n",
        "    kebenaran=0\n",
        "    print(\"Sebelum pengurutan kedekatan\")\n",
        "    print(\"No \\t Kedekatan\")\n",
        "    for x in hasil:\t#pengulangan untuk menampilkan hasil hitung sebelum diurutkan\n",
        "        print(int(x[1]),end=\"\\t\")\n",
        "        print(x[0])\n",
        "        pass\n",
        "    hasil.sort(key=lambda x:x[0]) #mengurutkan  array berdasarkan kedekatan dengan data test\n",
        "    print(\"Sesudah pengurutan kedekatan\")\n",
        "    print(\"No \\t Kedekatan\")\n",
        "    for x in hasil: #pengulangan untuk menampilkan hasil hitung setelah diurutkan\n",
        "        print(int(x[1]),end=\"\\t\")\n",
        "        print(x[0])\n",
        "        pass\n",
        "    while i3<nilai_k: #pengulangan untuk memilih hasil penghitungan dengan nilai k yang diurutkan berdasarkan kedekatan.\n",
        "        kebenaran+=hasil[i3][2] #menghitung total nilai keputusan (0 untuk tidak memenuhi dan 1 untuk memenuhi)\n",
        "        i3=i3+1\n",
        "        pass\n",
        "    return kebenaran"
      ],
      "metadata": {
        "id": "r97S5rOAzTYs"
      },
      "execution_count": 25,
      "outputs": []
    },
    {
      "cell_type": "code",
      "source": [
        "hasil=np.zeros((4,3)) #definisi array 4 baris 3 kolom hasil untuk menampung nomor, hasil hitung, dan kategori keputusan\n",
        "k=np.zeros(5) #definisi array untuk nilai kriteria\n",
        "d=pd.read_csv('/content/sample_data/data_train_sample.csv',delimiter=\";\")\n",
        "d=np.asarray(d)\n",
        "i=0\n",
        "i3=0\n",
        "x=0\n",
        "y=0\n",
        "z=0\n",
        "# kebenaran=0 #inisialisasi keputusan\n",
        "datapemohon(x,k)\n",
        "nilai_k = masukkan_nilai_k(y)\n",
        "hitung(hasil,i,d,k)\n",
        "print(hasil)"
      ],
      "metadata": {
        "colab": {
          "base_uri": "https://localhost:8080/"
        },
        "id": "I0M4sAhSzVU4",
        "outputId": "16fd254f-22e3-4f63-e19f-aa22748aff45"
      },
      "execution_count": 28,
      "outputs": [
        {
          "output_type": "stream",
          "name": "stdout",
          "text": [
            "Masukkan Kriteria 1 : 4\n",
            "Masukkan Kriteria 2 : 4\n",
            "Masukkan Kriteria 3 : 4\n",
            "Masukkan Kriteria 4 : 3\n",
            "Masukkan Kriteria 5 : 2\n",
            "Masukkan nilai k : 2\n",
            "[[2.23606798 1.         0.        ]\n",
            " [2.44948974 2.         1.        ]\n",
            " [3.60555128 3.         1.        ]\n",
            " [3.60555128 4.         0.        ]]\n"
          ]
        }
      ]
    },
    {
      "cell_type": "code",
      "source": [
        "# print(masukkan_nilai_k)\n",
        "hasil = list(hasil)\n",
        "kebenaran = urutkan(hasil, nilai_k, 0)\n",
        "print(kebenaran, nilai_k)\n",
        "keputusan=kebenaran/nilai_k*100 #membagi nilai keputusan dengan nilai k untuk menentukan apakah memenuhi atau tidak.\t\n",
        "print(\"Berdasarkan perhitungan diatas, sistem menyatakan pemohon\",end=\" \")\n",
        "if keputusan>50:\n",
        "    print(\"Memenuhi\",end=\" \")\n",
        "else:\n",
        "    print(\"Tidak Memenuhi\",end=\" \")\n",
        "    pass\n",
        "print(\"mengajukan kredit.\")\n",
        "print(\"Persentasi kebenaran \"+str(keputusan)+\"%\")"
      ],
      "metadata": {
        "colab": {
          "base_uri": "https://localhost:8080/"
        },
        "id": "3DtDej3H0zU5",
        "outputId": "37dd1937-0618-4934-b1c6-e06161b26653"
      },
      "execution_count": 29,
      "outputs": [
        {
          "output_type": "stream",
          "name": "stdout",
          "text": [
            "Sebelum pengurutan kedekatan\n",
            "No \t Kedekatan\n",
            "1\t2.23606797749979\n",
            "2\t2.449489742783178\n",
            "3\t3.605551275463989\n",
            "4\t3.605551275463989\n",
            "Sesudah pengurutan kedekatan\n",
            "No \t Kedekatan\n",
            "1\t2.23606797749979\n",
            "2\t2.449489742783178\n",
            "3\t3.605551275463989\n",
            "4\t3.605551275463989\n",
            "1.0 2\n",
            "Berdasarkan perhitungan diatas, sistem menyatakan pemohon Tidak Memenuhi mengajukan kredit.\n",
            "Persentasi kebenaran 50.0%\n"
          ]
        }
      ]
    }
  ]
}